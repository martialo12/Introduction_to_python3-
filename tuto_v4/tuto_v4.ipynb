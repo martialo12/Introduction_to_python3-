{
 "cells": [
  {
   "cell_type": "code",
   "execution_count": 1,
   "metadata": {},
   "outputs": [],
   "source": [
    "films_a_regarder = {\"matrix\", \"titanic\", \"twilight\"}"
   ]
  },
  {
   "cell_type": "code",
   "execution_count": 3,
   "metadata": {},
   "outputs": [
    {
     "name": "stdout",
     "output_type": "stream",
     "text": [
      "entre un film que t'as regardé récement: titanic\n",
      "j'ai regardé titanic aussi\n"
     ]
    }
   ],
   "source": [
    "film = input(\"entre un film que t'as regardé récement: \")\n",
    "if film in films_a_regarder:\n",
    "    print(f'j\\'ai regardé {film} aussi')\n",
    "else:\n",
    "    print('je l\\' ai pas encore regardé')"
   ]
  },
  {
   "cell_type": "code",
   "execution_count": 8,
   "metadata": {},
   "outputs": [
    {
     "name": "stdout",
     "output_type": "stream",
     "text": [
      "Entre 'y' si tu voudrais jouer: Y\n",
      "deviner le nombre: 10\n",
      "Félicitaitons! t'as deviné le nombre juste \n"
     ]
    }
   ],
   "source": [
    "nombre = 10\n",
    "nombre_entrer = input('Entre \\'y\\' si tu voudrais jouer: ')\n",
    "\n",
    "if nombre_entrer in (\"y\", \"Y\"): \n",
    "    nombre_entrer = int(input('deviner le nombre: '))\n",
    "    if nombre_entrer == nombre:\n",
    "        print('Félicitaitons! t\\'as deviné le nombre juste ')\n",
    "    elif nombre - nombre_entrer in (1, -1):\n",
    "        print('tu y es presque de 1 ou de -1')\n",
    "    else:\n",
    "        print(\"le nombre n\\'est pas correct\")\n",
    "else:\n",
    "    print('Je suis navré de te dire aurevoir')\n",
    "        "
   ]
  },
  {
   "cell_type": "code",
   "execution_count": 11,
   "metadata": {},
   "outputs": [
    {
     "name": "stdout",
     "output_type": "stream",
     "text": [
      "Entre 'y' si tu voudrais jouer: Y\n",
      "deviner le nombre: 21\n",
      "tu y es presque de 1\n"
     ]
    }
   ],
   "source": [
    "nombre = 20\n",
    "nombre_entrer = input('Entre \\'y\\' si tu voudrais jouer: ')\n",
    "\n",
    "if nombre_entrer.lower() == 'y': \n",
    "    nombre_entrer = int(input('deviner le nombre: '))\n",
    "    if nombre_entrer == nombre:\n",
    "        print('Félicitaitons! t\\'as deviné le nombre juste ')\n",
    "    elif abs(nombre - nombre_entrer) == 1:\n",
    "        print('tu y es presque de 1')\n",
    "    else:\n",
    "        print(\"le nombre n\\'est pas correct\")\n",
    "else:\n",
    "    print('Je suis navré de te dire aurevoir')"
   ]
  },
  {
   "cell_type": "code",
   "execution_count": 13,
   "metadata": {},
   "outputs": [
    {
     "name": "stdout",
     "output_type": "stream",
     "text": [
      "Entre 'y' si tu voudrais jouer: y\n",
      "deviner le nombre: 10\n",
      "le nombre n'est pas correct\n",
      "Voudrais tu jouer encore? (y/n)y\n",
      "deviner le nombre: 15\n",
      "le nombre n'est pas correct\n",
      "Voudrais tu jouer encore? (y/n)y\n",
      "deviner le nombre: 21\n",
      "tu y es presque de 1\n",
      "Voudrais tu jouer encore? (y/n)y\n",
      "deviner le nombre: 20\n",
      "Félicitaitons! t'as deviné le nombre juste \n",
      "Voudrais tu jouer encore? (y/n)n\n"
     ]
    }
   ],
   "source": [
    "nombre = 20\n",
    "jouer = input('Entre \\'y\\' si tu voudrais jouer: ')\n",
    "\n",
    "while jouer!='n': \n",
    "    nombre_entrer = int(input('deviner le nombre: '))\n",
    "    if nombre_entrer == nombre:\n",
    "        print('Félicitaitons! t\\'as deviné le nombre juste ')\n",
    "    elif abs(nombre - nombre_entrer) == 1:\n",
    "        print('tu y es presque de 1')\n",
    "    else:\n",
    "        print(\"le nombre n\\'est pas correct\")\n",
    "        \n",
    "    jouer = input('Voudrais tu jouer encore? (y/n)')"
   ]
  },
  {
   "cell_type": "code",
   "execution_count": 2,
   "metadata": {},
   "outputs": [
    {
     "name": "stdout",
     "output_type": "stream",
     "text": [
      "Entre 'y' si tu voudrais jouer: y\n",
      "deviner le nombre: 20\n",
      "Félicitaitons! t'as deviné le nombre juste \n",
      "Voudrais tu jouer encore? (y/n)y\n",
      "deviner le nombre: 20\n",
      "Félicitaitons! t'as deviné le nombre juste \n",
      "Voudrais tu jouer encore? (y/n)n\n"
     ]
    }
   ],
   "source": [
    "nombre = 20\n",
    "jouer = input('Entre \\'y\\' si tu voudrais jouer: ')\n",
    "while True:\n",
    "    if jouer == \"n\":\n",
    "        break # sortir de la boucle\n",
    "    \n",
    "    nombre_entrer = int(input('deviner le nombre: '))\n",
    "    if nombre_entrer == nombre:\n",
    "        print('Félicitaitons! t\\'as deviné le nombre juste ')\n",
    "    elif abs(nombre - nombre_entrer) == 1:\n",
    "        print('tu y es presque de 1')\n",
    "    else:\n",
    "        print(\"le nombre n\\'est pas correct\")\n",
    "        \n",
    "    jouer = input('Voudrais tu jouer encore? (y/n)')"
   ]
  },
  {
   "cell_type": "code",
   "execution_count": 3,
   "metadata": {},
   "outputs": [
    {
     "name": "stdout",
     "output_type": "stream",
     "text": [
      "Martin est mon ami\n",
      "Fred est mon ami\n",
      "Pippo est mon ami\n"
     ]
    }
   ],
   "source": [
    "amis = [\"Martin\", \"Fred\", \"Pippo\"]\n",
    "for pot in amis:\n",
    "    print(f'{pot} est mon ami')"
   ]
  },
  {
   "cell_type": "code",
   "execution_count": 7,
   "metadata": {},
   "outputs": [
    {
     "name": "stdout",
     "output_type": "stream",
     "text": [
      "92\n",
      "moyenne:  23.0\n"
     ]
    }
   ],
   "source": [
    "notes = [15, 20, 27, 30]\n",
    "total = 0\n",
    "taille = len(notes)\n",
    "for note in notes:\n",
    "    total = total+ note\n",
    "print(total)\n",
    "print('moyenne: ', total/ taille)"
   ]
  },
  {
   "cell_type": "code",
   "execution_count": 10,
   "metadata": {},
   "outputs": [
    {
     "name": "stdout",
     "output_type": "stream",
     "text": [
      "23.0\n"
     ]
    }
   ],
   "source": [
    "notes = [15, 20, 27, 30]\n",
    "total = sum(notes)\n",
    "taille = len(notes)\n",
    "print(total / taille)"
   ]
  },
  {
   "cell_type": "code",
   "execution_count": null,
   "metadata": {},
   "outputs": [],
   "source": []
  }
 ],
 "metadata": {
  "kernelspec": {
   "display_name": "Python 3",
   "language": "python",
   "name": "python3"
  }
 },
 "nbformat": 4,
 "nbformat_minor": 4
}
