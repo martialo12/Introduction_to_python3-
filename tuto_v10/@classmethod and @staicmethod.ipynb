{
 "cells": [
  {
   "cell_type": "code",
   "execution_count": 8,
   "metadata": {},
   "outputs": [],
   "source": [
    "class ClassTest:\n",
    "    def instance_method(self):\n",
    "        print(f\"called instance_method of {self}\")\n",
    "    \n",
    "    @classmethod\n",
    "    def class_method(cls):\n",
    "        print(f\"Called class_methid of {cls}\")\n",
    "    \n",
    "    @staticmethod\n",
    "    def static_method():\n",
    "        print(f\"Called static_method.\")"
   ]
  },
  {
   "cell_type": "code",
   "execution_count": 9,
   "metadata": {},
   "outputs": [
    {
     "name": "stdout",
     "output_type": "stream",
     "text": [
      "called instance_method of <__main__.ClassTest object at 0x000001F221CA0630>\n"
     ]
    }
   ],
   "source": [
    "instance = ClassTest()\n",
    "instance.instance_method()"
   ]
  },
  {
   "cell_type": "code",
   "execution_count": 10,
   "metadata": {},
   "outputs": [
    {
     "name": "stdout",
     "output_type": "stream",
     "text": [
      "Called class_methid of <class '__main__.ClassTest'>\n"
     ]
    }
   ],
   "source": [
    "ClassTest.class_method()"
   ]
  },
  {
   "cell_type": "code",
   "execution_count": 11,
   "metadata": {},
   "outputs": [
    {
     "name": "stdout",
     "output_type": "stream",
     "text": [
      "Called static_method.\n"
     ]
    }
   ],
   "source": [
    "ClassTest.static_method()"
   ]
  },
  {
   "cell_type": "code",
   "execution_count": null,
   "metadata": {},
   "outputs": [],
   "source": []
  },
  {
   "cell_type": "code",
   "execution_count": 12,
   "metadata": {},
   "outputs": [],
   "source": [
    "from datetime import date"
   ]
  },
  {
   "cell_type": "code",
   "execution_count": 17,
   "metadata": {},
   "outputs": [],
   "source": [
    "class Personne:\n",
    "    def __init__(self, nom, age):\n",
    "        self.nom = nom\n",
    "        self.age = age\n",
    "    \n",
    "    @classmethod\n",
    "    def mon_age(cls, nom, annee_de_naissance):\n",
    "        return cls(nom, date.today().year - annee_de_naissance)\n",
    "    \n",
    "    def afficher(self):\n",
    "        print(self.nom + \" a \" + str(self.age) + \" ans \")\n"
   ]
  },
  {
   "cell_type": "code",
   "execution_count": 15,
   "metadata": {},
   "outputs": [
    {
     "name": "stdout",
     "output_type": "stream",
     "text": [
      "Marco a 23 ans \n"
     ]
    }
   ],
   "source": [
    "p1 = Personne(\"Marco\", 23)\n",
    "p1.afficher()"
   ]
  },
  {
   "cell_type": "code",
   "execution_count": 18,
   "metadata": {},
   "outputs": [
    {
     "name": "stdout",
     "output_type": "stream",
     "text": [
      "John a 38 ans \n"
     ]
    }
   ],
   "source": [
    "p2 = Personne.mon_age('John', 1982)\n",
    "p2.afficher()"
   ]
  },
  {
   "cell_type": "code",
   "execution_count": null,
   "metadata": {},
   "outputs": [],
   "source": []
  }
 ],
 "metadata": {
  "kernelspec": {
   "display_name": "Python 3",
   "language": "python",
   "name": "python3"
  },
  "language_info": {
   "codemirror_mode": {
    "name": "ipython",
    "version": 3
   },
   "file_extension": ".py",
   "mimetype": "text/x-python",
   "name": "python",
   "nbconvert_exporter": "python",
   "pygments_lexer": "ipython3",
   "version": "3.7.3"
  }
 },
 "nbformat": 4,
 "nbformat_minor": 4
}
