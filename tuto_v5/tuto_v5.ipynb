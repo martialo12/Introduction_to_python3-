{
 "cells": [
  {
   "cell_type": "markdown",
   "metadata": {},
   "source": [
    "# List Comprehension"
   ]
  },
  {
   "cell_type": "code",
   "execution_count": 1,
   "metadata": {},
   "outputs": [
    {
     "data": {
      "text/plain": [
       "[10, 4, 2]"
      ]
     },
     "execution_count": 1,
     "metadata": {},
     "output_type": "execute_result"
    }
   ],
   "source": [
    "nombres = [5, 2, 1]\n",
    "double = [x * 2 for x in nombres]\n",
    "double"
   ]
  },
  {
   "cell_type": "code",
   "execution_count": 2,
   "metadata": {},
   "outputs": [
    {
     "name": "stdout",
     "output_type": "stream",
     "text": [
      "['Paul', 'Patrick']\n"
     ]
    }
   ],
   "source": [
    "amis = [ \"Vicky\", \"Paul\", \"Patrick\", \"Samantha\", \"Cindy\"]\n",
    "commence_avec_p = []\n",
    "\n",
    "for ami in amis:\n",
    "    if ami.startswith('P'):\n",
    "        commence_avec_p.append(ami)\n",
    "\n",
    "print(commence_avec_p)"
   ]
  },
  {
   "cell_type": "code",
   "execution_count": 3,
   "metadata": {},
   "outputs": [
    {
     "data": {
      "text/plain": [
       "['Paul', 'Patrick']"
      ]
     },
     "execution_count": 3,
     "metadata": {},
     "output_type": "execute_result"
    }
   ],
   "source": [
    "commence_avec_p = [ami for ami in amis if ami.startswith(\"P\")]\n",
    "commence_avec_p"
   ]
  },
  {
   "cell_type": "code",
   "execution_count": null,
   "metadata": {},
   "outputs": [],
   "source": []
  },
  {
   "cell_type": "code",
   "execution_count": null,
   "metadata": {},
   "outputs": [],
   "source": []
  },
  {
   "cell_type": "markdown",
   "metadata": {},
   "source": [
    "# Dictionary"
   ]
  },
  {
   "cell_type": "code",
   "execution_count": 4,
   "metadata": {},
   "outputs": [
    {
     "data": {
      "text/plain": [
       "{'Stephane': 27, 'Patrick': 16, 'Christelle': 26, 'Juliette': 25}"
      ]
     },
     "execution_count": 4,
     "metadata": {},
     "output_type": "execute_result"
    }
   ],
   "source": [
    "age_des_amis = {\"Stephane\": 27, \"Patrick\": 16, \"Christelle\": 26, \"Juliette\": 25}\n",
    "age_des_amis"
   ]
  },
  {
   "cell_type": "code",
   "execution_count": 5,
   "metadata": {},
   "outputs": [
    {
     "data": {
      "text/plain": [
       "{'Stephane': 27,\n",
       " 'Patrick': 16,\n",
       " 'Christelle': 26,\n",
       " 'Juliette': 25,\n",
       " 'Pamphile': 24}"
      ]
     },
     "execution_count": 5,
     "metadata": {},
     "output_type": "execute_result"
    }
   ],
   "source": [
    "age_des_amis['Pamphile']=24\n",
    "age_des_amis"
   ]
  },
  {
   "cell_type": "code",
   "execution_count": 6,
   "metadata": {},
   "outputs": [
    {
     "name": "stdout",
     "output_type": "stream",
     "text": [
      "Stephane: 27\n",
      "Patrick: 16\n",
      "Christelle: 26\n",
      "Juliette: 25\n",
      "Pamphile: 24\n"
     ]
    }
   ],
   "source": [
    "for ami in age_des_amis:\n",
    "    print(f\"{ami}: {age_des_amis[ami]}\")"
   ]
  },
  {
   "cell_type": "code",
   "execution_count": 7,
   "metadata": {},
   "outputs": [
    {
     "name": "stdout",
     "output_type": "stream",
     "text": [
      "Stephane: 27\n",
      "Patrick: 16\n",
      "Christelle: 26\n",
      "Juliette: 25\n",
      "Pamphile: 24\n"
     ]
    }
   ],
   "source": [
    "for ami, age in age_des_amis.items():\n",
    "    print(f\"{ami}: {age}\")"
   ]
  },
  {
   "cell_type": "code",
   "execution_count": 8,
   "metadata": {},
   "outputs": [
    {
     "name": "stdout",
     "output_type": "stream",
     "text": [
      "Patrick: 24\n"
     ]
    }
   ],
   "source": [
    "if \"Patrick\" in age_des_amis:\n",
    "    print(f\"Patrick: {age_des_amis[ami]}\")\n",
    "else:\n",
    "    print(\"Patrick n\\'est pas mon ami\")"
   ]
  },
  {
   "cell_type": "code",
   "execution_count": 9,
   "metadata": {},
   "outputs": [
    {
     "name": "stdout",
     "output_type": "stream",
     "text": [
      "la moyenne des ages de mes amis est: 23.6\n"
     ]
    }
   ],
   "source": [
    "ages = age_des_amis.values()\n",
    "taille = len(ages)\n",
    "somme = sum(ages)\n",
    "moyenne = somme/taille\n",
    "print(f\"la moyenne des ages de mes amis est: {moyenne}\")"
   ]
  },
  {
   "cell_type": "code",
   "execution_count": null,
   "metadata": {},
   "outputs": [],
   "source": []
  }
 ],
 "metadata": {
  "kernelspec": {
   "display_name": "Python 3",
   "language": "python",
   "name": "python3"
  },
  "language_info": {
   "codemirror_mode": {
    "name": "ipython",
    "version": 3
   },
   "file_extension": ".py",
   "mimetype": "text/x-python",
   "name": "python",
   "nbconvert_exporter": "python",
   "pygments_lexer": "ipython3",
   "version": "3.7.3"
  }
 },
 "nbformat": 4,
 "nbformat_minor": 4
}
